{
  "nbformat": 4,
  "nbformat_minor": 0,
  "metadata": {
    "colab": {
      "name": "AVP_BojanaSimic.ipynb",
      "provenance": [],
      "toc_visible": true
    },
    "kernelspec": {
      "name": "python3",
      "display_name": "Python 3"
    },
    "language_info": {
      "name": "python"
    }
  },
  "cells": [
    {
      "cell_type": "markdown",
      "metadata": {
        "id": "y-lTTdKaVHqW"
      },
      "source": [
        "# Podešavanje Sparka za rad u Google Colabu"
      ]
    },
    {
      "cell_type": "code",
      "metadata": {
        "colab": {
          "base_uri": "https://localhost:8080/"
        },
        "id": "4steOyfmSktG",
        "outputId": "b867eb9c-4de3-49c4-9244-83d7776ff856"
      },
      "source": [
        "from google.colab import drive\n",
        "drive.mount('/content/drive')"
      ],
      "execution_count": 1,
      "outputs": [
        {
          "output_type": "stream",
          "name": "stdout",
          "text": [
            "Drive already mounted at /content/drive; to attempt to forcibly remount, call drive.mount(\"/content/drive\", force_remount=True).\n"
          ]
        }
      ]
    },
    {
      "cell_type": "code",
      "metadata": {
        "colab": {
          "base_uri": "https://localhost:8080/"
        },
        "id": "yKIt2jWXNCQv",
        "outputId": "3a6e415d-c6e6-4ec7-94bb-a9eb87116457"
      },
      "source": [
        "!pip install pyspark"
      ],
      "execution_count": 2,
      "outputs": [
        {
          "output_type": "stream",
          "name": "stdout",
          "text": [
            "Collecting pyspark\n",
            "  Downloading pyspark-3.1.2.tar.gz (212.4 MB)\n",
            "\u001b[K     |████████████████████████████████| 212.4 MB 61 kB/s \n",
            "\u001b[?25hCollecting py4j==0.10.9\n",
            "  Downloading py4j-0.10.9-py2.py3-none-any.whl (198 kB)\n",
            "\u001b[K     |████████████████████████████████| 198 kB 54.4 MB/s \n",
            "\u001b[?25hBuilding wheels for collected packages: pyspark\n",
            "  Building wheel for pyspark (setup.py) ... \u001b[?25l\u001b[?25hdone\n",
            "  Created wheel for pyspark: filename=pyspark-3.1.2-py2.py3-none-any.whl size=212880768 sha256=746bcc721d6d08f3e8a4f5524289c73282a200739bd94e177e9c9a3664752806\n",
            "  Stored in directory: /root/.cache/pip/wheels/a5/0a/c1/9561f6fecb759579a7d863dcd846daaa95f598744e71b02c77\n",
            "Successfully built pyspark\n",
            "Installing collected packages: py4j, pyspark\n",
            "Successfully installed py4j-0.10.9 pyspark-3.1.2\n"
          ]
        }
      ]
    },
    {
      "cell_type": "markdown",
      "metadata": {
        "id": "gEeTjly8ZZa-"
      },
      "source": [
        "#Učitavanje potrebnih biblioteka"
      ]
    },
    {
      "cell_type": "code",
      "metadata": {
        "id": "fUTgSjE5ZoHM"
      },
      "source": [
        "from pyspark.sql import SparkSession\n",
        "from pyspark.sql.types import *\n",
        "from pyspark.sql import functions as f\n",
        "\n",
        "import pandas as pd\n",
        "import matplotlib.pyplot as plt\n",
        "import seaborn as sns\n",
        "import numpy as np\n",
        "from matplotlib.pyplot import figure\n",
        "\n",
        "from pyspark.sql.types import IntegerType"
      ],
      "execution_count": 3,
      "outputs": []
    },
    {
      "cell_type": "markdown",
      "metadata": {
        "id": "ESQryzTwZohN"
      },
      "source": [
        "#Analiza i priprema podataka\n",
        "\n"
      ]
    },
    {
      "cell_type": "code",
      "metadata": {
        "colab": {
          "base_uri": "https://localhost:8080/"
        },
        "id": "rp2L6kxqZ1CP",
        "outputId": "4d5f6625-57cd-446c-b64d-e7b7f42b21bf"
      },
      "source": [
        "spark = SparkSession.builder.master(\"local[*]\").getOrCreate()\n",
        "dataset = spark.read.csv('/content/drive/MyDrive/AVP projekat/aac_shelter_outcomes.csv', header = True)\n",
        "dataset.show()\n"
      ],
      "execution_count": 4,
      "outputs": [
        {
          "output_type": "stream",
          "name": "stdout",
          "text": [
            "+----------------+---------+-----------+--------------------+-------------------+-------------------+-------------------+-------------------+-----------+---------------+---------------+----------------+\n",
            "|age_upon_outcome|animal_id|animal_type|               breed|              color|      date_of_birth|           datetime|          monthyear|       name|outcome_subtype|   outcome_type|sex_upon_outcome|\n",
            "+----------------+---------+-----------+--------------------+-------------------+-------------------+-------------------+-------------------+-----------+---------------+---------------+----------------+\n",
            "|         2 weeks|  A684346|        Cat|Domestic Shorthai...|       Orange Tabby|2014-07-07T00:00:00|2014-07-22T16:04:00|2014-07-22T16:04:00|       null|        Partner|       Transfer|     Intact Male|\n",
            "|          1 year|  A666430|        Dog|          Beagle Mix|        White/Brown|2012-11-06T00:00:00|2013-11-07T11:47:00|2013-11-07T11:47:00|       Lucy|        Partner|       Transfer|   Spayed Female|\n",
            "|          1 year|  A675708|        Dog|            Pit Bull|         Blue/White|2013-03-31T00:00:00|2014-06-03T14:20:00|2014-06-03T14:20:00|    *Johnny|           null|       Adoption|   Neutered Male|\n",
            "|         9 years|  A680386|        Dog|Miniature Schnauz...|              White|2005-06-02T00:00:00|2014-06-15T15:50:00|2014-06-15T15:50:00|     Monday|        Partner|       Transfer|   Neutered Male|\n",
            "|        5 months|  A683115|      Other|             Bat Mix|              Brown|2014-01-07T00:00:00|2014-07-07T14:04:00|2014-07-07T14:04:00|       null|    Rabies Risk|     Euthanasia|         Unknown|\n",
            "|        4 months|  A664462|        Dog|      Leonberger Mix|        Brown/White|2013-06-03T00:00:00|2013-10-07T13:06:00|2013-10-07T13:06:00|     *Edgar|        Partner|       Transfer|     Intact Male|\n",
            "|          1 year|  A693700|      Other|        Squirrel Mix|                Tan|2013-12-13T00:00:00|2014-12-13T12:20:00|2014-12-13T12:20:00|       null|      Suffering|     Euthanasia|         Unknown|\n",
            "|         3 years|  A692618|        Dog|Chihuahua Shortha...|              Brown|2011-11-23T00:00:00|2014-12-08T15:55:00|2014-12-08T15:55:00|      *Ella|        Partner|       Transfer|   Spayed Female|\n",
            "|         1 month|  A685067|        Cat|Domestic Shorthai...|   Blue Tabby/White|2014-06-16T00:00:00|2014-08-14T18:45:00|2014-08-14T18:45:00|       Lucy|           null|       Adoption|   Intact Female|\n",
            "|        3 months|  A678580|        Cat|Domestic Shorthai...|        White/Black|2014-03-26T00:00:00|2014-06-29T17:45:00|2014-06-29T17:45:00|     *Frida|        Offsite|       Adoption|   Spayed Female|\n",
            "|          1 year|  A675405|        Cat|Domestic Medium H...|        Black/White|2013-03-27T00:00:00|2014-03-28T14:55:00|2014-03-28T14:55:00|Stella Luna|           null|Return to Owner|   Spayed Female|\n",
            "|         2 years|  A673652|        Dog|Papillon/Border C...|        Black/White|2012-02-28T00:00:00|2014-03-28T14:39:00|2014-03-28T14:39:00|      Fancy|        Partner|       Transfer|   Neutered Male|\n",
            "|        2 months|  A677679|        Dog|Chihuahua Shortha...|              Black|2014-03-07T00:00:00|2014-05-26T19:10:00|2014-05-26T19:10:00|       Kash|         Foster|       Adoption|   Neutered Male|\n",
            "|         4 years|  A640655|        Dog|Miniature Schnauz...|              White|2009-04-27T00:00:00|2014-04-25T11:17:00|2014-04-25T11:17:00|      Sandy|           null|Return to Owner|   Spayed Female|\n",
            "|         8 years|  A690350|        Dog|Labrador Retrieve...|              Black|2006-10-18T00:00:00|2014-10-26T18:20:00|2014-10-26T18:20:00|        Shy|           null|Return to Owner|   Neutered Male|\n",
            "|         2 years|  A680396|        Dog|     Rat Terrier Mix|        White/Black|2012-06-02T00:00:00|2014-06-15T15:11:00|2014-06-15T15:11:00|    *Truman|        Partner|       Transfer|   Neutered Male|\n",
            "|          1 year|  A674298|        Dog|        Pit Bull Mix|Brown Brindle/White|2013-03-11T00:00:00|2014-04-16T12:51:00|2014-04-16T12:51:00|      *Newt|        Partner|       Transfer|   Neutered Male|\n",
            "|         3 weeks|  A670420|        Cat|Domestic Shorthai...|        Black/White|2013-12-16T00:00:00|2014-01-09T19:29:00|2014-01-09T19:29:00|       null|        Partner|       Transfer|     Intact Male|\n",
            "|        2 months|  A692378|        Dog|German Shepherd/L...|        Black/White|2014-10-19T00:00:00|2014-12-21T18:20:00|2014-12-21T18:20:00|    *Bonnie|         Foster|       Adoption|   Spayed Female|\n",
            "|        2 months|  A684460|        Cat|Domestic Shorthai...|        Brown Tabby|2014-06-02T00:00:00|2014-08-13T15:04:00|2014-08-13T15:04:00|       Elsa|           null|       Adoption|   Spayed Female|\n",
            "+----------------+---------+-----------+--------------------+-------------------+-------------------+-------------------+-------------------+-----------+---------------+---------------+----------------+\n",
            "only showing top 20 rows\n",
            "\n"
          ]
        }
      ]
    },
    {
      "cell_type": "code",
      "metadata": {
        "colab": {
          "base_uri": "https://localhost:8080/"
        },
        "id": "TYXP07-kTEOW",
        "outputId": "7d845a30-70f8-468d-d8e8-5aebf9702b8d"
      },
      "source": [
        "dataset.printSchema()"
      ],
      "execution_count": 5,
      "outputs": [
        {
          "output_type": "stream",
          "name": "stdout",
          "text": [
            "root\n",
            " |-- age_upon_outcome: string (nullable = true)\n",
            " |-- animal_id: string (nullable = true)\n",
            " |-- animal_type: string (nullable = true)\n",
            " |-- breed: string (nullable = true)\n",
            " |-- color: string (nullable = true)\n",
            " |-- date_of_birth: string (nullable = true)\n",
            " |-- datetime: string (nullable = true)\n",
            " |-- monthyear: string (nullable = true)\n",
            " |-- name: string (nullable = true)\n",
            " |-- outcome_subtype: string (nullable = true)\n",
            " |-- outcome_type: string (nullable = true)\n",
            " |-- sex_upon_outcome: string (nullable = true)\n",
            "\n"
          ]
        }
      ]
    },
    {
      "cell_type": "code",
      "metadata": {
        "colab": {
          "base_uri": "https://localhost:8080/"
        },
        "id": "u6Xi84tYi0By",
        "outputId": "5d4d8e32-06de-4d94-db9a-5f782693b550"
      },
      "source": [
        "#analiza\n",
        "dataForAnalysis = dataset.filter(f.lower(dataset.animal_type).like(\"%dog%\"))\\\n",
        "                                 .select(\"age_upon_outcome\",\"breed\", \"color\", \"sex_upon_outcome\", \"outcome_type\")\n",
        "                          \n",
        "dataForAnalysis.show(10)\n"
      ],
      "execution_count": 6,
      "outputs": [
        {
          "output_type": "stream",
          "name": "stdout",
          "text": [
            "+----------------+--------------------+-----------+----------------+---------------+\n",
            "|age_upon_outcome|               breed|      color|sex_upon_outcome|   outcome_type|\n",
            "+----------------+--------------------+-----------+----------------+---------------+\n",
            "|          1 year|          Beagle Mix|White/Brown|   Spayed Female|       Transfer|\n",
            "|          1 year|            Pit Bull| Blue/White|   Neutered Male|       Adoption|\n",
            "|         9 years|Miniature Schnauz...|      White|   Neutered Male|       Transfer|\n",
            "|        4 months|      Leonberger Mix|Brown/White|     Intact Male|       Transfer|\n",
            "|         3 years|Chihuahua Shortha...|      Brown|   Spayed Female|       Transfer|\n",
            "|         2 years|Papillon/Border C...|Black/White|   Neutered Male|       Transfer|\n",
            "|        2 months|Chihuahua Shortha...|      Black|   Neutered Male|       Adoption|\n",
            "|         4 years|Miniature Schnauz...|      White|   Spayed Female|Return to Owner|\n",
            "|         8 years|Labrador Retrieve...|      Black|   Neutered Male|Return to Owner|\n",
            "|         2 years|     Rat Terrier Mix|White/Black|   Neutered Male|       Transfer|\n",
            "+----------------+--------------------+-----------+----------------+---------------+\n",
            "only showing top 10 rows\n",
            "\n"
          ]
        }
      ]
    },
    {
      "cell_type": "code",
      "metadata": {
        "colab": {
          "base_uri": "https://localhost:8080/"
        },
        "id": "fR8NiY70q8fW",
        "outputId": "ed934fb9-e30b-4d81-99a0-e3751583221d"
      },
      "source": [
        "print(\"Broj instanci u skupu podataka: \", dataForAnalysis.count())\n",
        "dataForAnalysis = dataForAnalysis.dropDuplicates()\n",
        "print(\"Broj instanci nakon uklanjanja duplikata: \", dataForAnalysis.count())\n",
        "dataForAnalysis = dataForAnalysis.dropna(how='any')\n",
        "print(\"Broj instanci nakon uklanjanja NULL vrednosti: \", dataForAnalysis.count())"
      ],
      "execution_count": 7,
      "outputs": [
        {
          "output_type": "stream",
          "name": "stdout",
          "text": [
            "Broj instanci u skupu podataka:  44242\n",
            "Broj instanci nakon uklanjanja duplikata:  29798\n",
            "Broj instanci nakon uklanjanja NULL vrednosti:  29794\n"
          ]
        }
      ]
    },
    {
      "cell_type": "markdown",
      "metadata": {
        "id": "j-L6qRZ8TDFL"
      },
      "source": [
        "# Vizuelizacija podataka"
      ]
    },
    {
      "cell_type": "code",
      "metadata": {
        "colab": {
          "base_uri": "https://localhost:8080/",
          "height": 334
        },
        "id": "rEmmVireM0h3",
        "outputId": "a2a56ccb-14fd-4b30-a508-5f41178ea44a"
      },
      "source": [
        "dataPandas = dataForAnalysis.toPandas()\n",
        "plt.figure(figsize=(12,5))\n",
        "sns.countplot(data=dataPandas, x='outcome_type')\n",
        "plt.show()"
      ],
      "execution_count": 8,
      "outputs": [
        {
          "output_type": "display_data",
          "data": {
            "image/png": "[encoded data removed]",
            "text/plain": [
              "<Figure size 864x360 with 1 Axes>"
            ]
          },
          "metadata": {
            "needs_background": "light"
          }
        }
      ]
    },
    {
      "cell_type": "code",
      "metadata": {
        "id": "PImo43upM29v"
      },
      "source": [
        "def adoption(x): \n",
        "    x = str(x)   \n",
        "    if x.find('Adoption') != -1:   \n",
        "        return 0   \n",
        "    else: \n",
        "        return 1                   \n",
        "\n",
        "dataPandas['outcome'] = dataPandas['outcome_type'].apply(adoption)"
      ],
      "execution_count": 9,
      "outputs": []
    },
    {
      "cell_type": "code",
      "metadata": {
        "colab": {
          "base_uri": "https://localhost:8080/",
          "height": 334
        },
        "id": "iqlAULpmwmAQ",
        "outputId": "0fe422e0-eab9-47a2-b589-28d7efc50e35"
      },
      "source": [
        "\n",
        "plt.figure(figsize=(12,5))\n",
        "sns.countplot(data=dataPandas, x='outcome')\n",
        "plt.show()"
      ],
      "execution_count": 10,
      "outputs": [
        {
          "output_type": "display_data",
          "data": {
            "image/png": "[encoded data removed]",
            "text/plain": [
              "<Figure size 864x360 with 1 Axes>"
            ]
          },
          "metadata": {
            "needs_background": "light"
          }
        }
      ]
    },
    {
      "cell_type": "code",
      "metadata": {
        "id": "sqr2RWxAeIUN"
      },
      "source": [
        "#kolona age je tipa string, mi zelimo da bude int\n",
        "#koristimo years da odredimo koliko godina ima zivotinja, ukoliko pise nesto drugo zivotinja nema godinu dana i njena vrednost je 0\n",
        "\n",
        "def years_old(x): \n",
        "    x = str(x)   \n",
        "    if x.find('year') != -1:   \n",
        "        return int(x.split()[0])   \n",
        "    else: \n",
        "        return 0                   \n",
        "\n",
        "dataPandas['years'] = dataPandas['age_upon_outcome'].apply(years_old)\n"
      ],
      "execution_count": 11,
      "outputs": []
    },
    {
      "cell_type": "code",
      "metadata": {
        "colab": {
          "base_uri": "https://localhost:8080/",
          "height": 334
        },
        "id": "M0dii_n4Anz1",
        "outputId": "d5fae157-f36e-4220-fc16-f85c777a89af"
      },
      "source": [
        "plt.figure(figsize=(10,5))\n",
        "sns.countplot(data=dataPandas, x='years')\n",
        "plt.show()"
      ],
      "execution_count": 12,
      "outputs": [
        {
          "output_type": "display_data",
          "data": {
            "image/png": "[encoded data removed]",
            "text/plain": [
              "<Figure size 720x360 with 1 Axes>"
            ]
          },
          "metadata": {
            "needs_background": "light"
          }
        }
      ]
    },
    {
      "cell_type": "code",
      "metadata": {
        "id": "8m1Y6nCd-vDo"
      },
      "source": [
        "def age_category(x):    \n",
        "    if x < 1: return 'young'\n",
        "    elif x < 10: return 'adult'\n",
        "    else: return 'old'\n",
        "dataPandas['age'] = dataPandas['years'].apply(age_category)"
      ],
      "execution_count": 13,
      "outputs": []
    },
    {
      "cell_type": "code",
      "metadata": {
        "colab": {
          "base_uri": "https://localhost:8080/",
          "height": 334
        },
        "id": "eZSM6npf9fRM",
        "outputId": "f3dfe472-6975-478f-dd56-9ef98fbe0935"
      },
      "source": [
        "plt.figure(figsize=(10,5))\n",
        "sns.countplot(data=dataPandas, x='age')\n",
        "plt.show()"
      ],
      "execution_count": 14,
      "outputs": [
        {
          "output_type": "display_data",
          "data": {
            "image/png": "[encoded data removed]",
            "text/plain": [
              "<Figure size 720x360 with 1 Axes>"
            ]
          },
          "metadata": {
            "needs_background": "light"
          }
        }
      ]
    },
    {
      "cell_type": "code",
      "metadata": {
        "colab": {
          "base_uri": "https://localhost:8080/",
          "height": 334
        },
        "id": "Tq2toOys96vF",
        "outputId": "860eb1f1-4009-4fab-ce65-82fcac27d6a7"
      },
      "source": [
        "plt.figure(figsize=(10,5))\n",
        "sns.countplot(data=dataPandas, x='sex_upon_outcome')\n",
        "plt.show()"
      ],
      "execution_count": 15,
      "outputs": [
        {
          "output_type": "display_data",
          "data": {
            "image/png": "[encoded data removed]",
            "text/plain": [
              "<Figure size 720x360 with 1 Axes>"
            ]
          },
          "metadata": {
            "needs_background": "light"
          }
        }
      ]
    },
    {
      "cell_type": "code",
      "metadata": {
        "colab": {
          "base_uri": "https://localhost:8080/"
        },
        "id": "p2v5JKwo-SyU",
        "outputId": "7d037a55-5069-4f82-c89c-03367b12ae80"
      },
      "source": [
        "breed1 = dataPandas.breed.value_counts()\n",
        "breed1"
      ],
      "execution_count": 16,
      "outputs": [
        {
          "output_type": "execute_result",
          "data": {
            "text/plain": [
              "Pit Bull Mix                      2486\n",
              "Chihuahua Shorthair Mix           2357\n",
              "Labrador Retriever Mix            1907\n",
              "German Shepherd Mix               1021\n",
              "Australian Cattle Dog Mix          792\n",
              "                                  ... \n",
              "Collie Smooth/Saluki                 1\n",
              "Black/Tan Hound/Siberian Husky       1\n",
              "Boxer/Chow Chow                      1\n",
              "Pit Bull/Belgian Malinois            1\n",
              "Golden Retriever/Whippet             1\n",
              "Name: breed, Length: 1893, dtype: int64"
            ]
          },
          "metadata": {},
          "execution_count": 16
        }
      ]
    },
    {
      "cell_type": "code",
      "metadata": {
        "colab": {
          "base_uri": "https://localhost:8080/",
          "height": 334
        },
        "id": "aV1fXGEr1ou2",
        "outputId": "8de7f7d2-b4f8-41f2-ee49-8514d3a57fe3"
      },
      "source": [
        "plt.figure(figsize=(10,5))\n",
        "sns.boxplot(x = dataPandas.breed.value_counts() , data = dataPandas)\n",
        "plt.show()"
      ],
      "execution_count": 17,
      "outputs": [
        {
          "output_type": "display_data",
          "data": {
            "image/png": "[encoded data removed]",
            "text/plain": [
              "<Figure size 720x360 with 1 Axes>"
            ]
          },
          "metadata": {
            "needs_background": "light"
          }
        }
      ]
    },
    {
      "cell_type": "code",
      "metadata": {
        "colab": {
          "base_uri": "https://localhost:8080/"
        },
        "id": "9dVeYH2xOqHO",
        "outputId": "6cf644f9-ad21-4f69-8316-b4f514e74940"
      },
      "source": [
        "color1 = dataPandas.color.value_counts()\n",
        "color1"
      ],
      "execution_count": 18,
      "outputs": [
        {
          "output_type": "execute_result",
          "data": {
            "text/plain": [
              "Black/White              2644\n",
              "White                    1540\n",
              "Brown/White              1461\n",
              "Tan/White                1461\n",
              "Tricolor                 1381\n",
              "                         ... \n",
              "Chocolate/Gray              1\n",
              "Brown/Brown Merle           1\n",
              "White/Brown Tiger           1\n",
              "Tan/Yellow Brindle          1\n",
              "Black Smoke/Blue Tick       1\n",
              "Name: color, Length: 336, dtype: int64"
            ]
          },
          "metadata": {},
          "execution_count": 18
        }
      ]
    },
    {
      "cell_type": "code",
      "metadata": {
        "colab": {
          "base_uri": "https://localhost:8080/",
          "height": 334
        },
        "id": "_2Ch4kYU3_xH",
        "outputId": "e23d96db-f2d0-443b-e683-ffa9116b9c61"
      },
      "source": [
        "plt.figure(figsize=(10,5))\n",
        "sns.boxplot(x = dataPandas.color.value_counts() , data = dataPandas)\n",
        "plt.show()"
      ],
      "execution_count": 19,
      "outputs": [
        {
          "output_type": "display_data",
          "data": {
            "image/png": "[encoded data removed]",
            "text/plain": [
              "<Figure size 720x360 with 1 Axes>"
            ]
          },
          "metadata": {
            "needs_background": "light"
          }
        }
      ]
    },
    {
      "cell_type": "code",
      "metadata": {
        "colab": {
          "base_uri": "https://localhost:8080/",
          "height": 206
        },
        "id": "tFJMiw6wdyGv",
        "outputId": "181daa0b-3254-4327-faa8-609f276300cc"
      },
      "source": [
        "dataPandas.drop(['age_upon_outcome', 'years'], axis='columns', inplace=True)\n",
        "dataPandas.head()"
      ],
      "execution_count": 20,
      "outputs": [
        {
          "output_type": "execute_result",
          "data": {
            "text/html": [
              "<div>\n",
              "<style scoped>\n",
              "    .dataframe tbody tr th:only-of-type {\n",
              "        vertical-align: middle;\n",
              "    }\n",
              "\n",
              "    .dataframe tbody tr th {\n",
              "        vertical-align: top;\n",
              "    }\n",
              "\n",
              "    .dataframe thead th {\n",
              "        text-align: right;\n",
              "    }\n",
              "</style>\n",
              "<table border=\"1\" class=\"dataframe\">\n",
              "  <thead>\n",
              "    <tr style=\"text-align: right;\">\n",
              "      <th></th>\n",
              "      <th>breed</th>\n",
              "      <th>color</th>\n",
              "      <th>sex_upon_outcome</th>\n",
              "      <th>outcome_type</th>\n",
              "      <th>outcome</th>\n",
              "      <th>age</th>\n",
              "    </tr>\n",
              "  </thead>\n",
              "  <tbody>\n",
              "    <tr>\n",
              "      <th>0</th>\n",
              "      <td>Staffordshire Mix</td>\n",
              "      <td>Chocolate/White</td>\n",
              "      <td>Neutered Male</td>\n",
              "      <td>Adoption</td>\n",
              "      <td>0</td>\n",
              "      <td>adult</td>\n",
              "    </tr>\n",
              "    <tr>\n",
              "      <th>1</th>\n",
              "      <td>Australian Cattle Dog Mix</td>\n",
              "      <td>Red/Red Tick</td>\n",
              "      <td>Intact Male</td>\n",
              "      <td>Return to Owner</td>\n",
              "      <td>1</td>\n",
              "      <td>young</td>\n",
              "    </tr>\n",
              "    <tr>\n",
              "      <th>2</th>\n",
              "      <td>Chihuahua Shorthair Mix</td>\n",
              "      <td>Black</td>\n",
              "      <td>Neutered Male</td>\n",
              "      <td>Adoption</td>\n",
              "      <td>0</td>\n",
              "      <td>young</td>\n",
              "    </tr>\n",
              "    <tr>\n",
              "      <th>3</th>\n",
              "      <td>Maltese/Yorkshire Terrier</td>\n",
              "      <td>White/Cream</td>\n",
              "      <td>Spayed Female</td>\n",
              "      <td>Adoption</td>\n",
              "      <td>0</td>\n",
              "      <td>adult</td>\n",
              "    </tr>\n",
              "    <tr>\n",
              "      <th>4</th>\n",
              "      <td>Flat Coat Retriever/German Shepherd</td>\n",
              "      <td>Black/Brown</td>\n",
              "      <td>Neutered Male</td>\n",
              "      <td>Adoption</td>\n",
              "      <td>0</td>\n",
              "      <td>adult</td>\n",
              "    </tr>\n",
              "  </tbody>\n",
              "</table>\n",
              "</div>"
            ],
            "text/plain": [
              "                                 breed            color  ... outcome    age\n",
              "0                    Staffordshire Mix  Chocolate/White  ...       0  adult\n",
              "1            Australian Cattle Dog Mix     Red/Red Tick  ...       1  young\n",
              "2              Chihuahua Shorthair Mix            Black  ...       0  young\n",
              "3            Maltese/Yorkshire Terrier      White/Cream  ...       0  adult\n",
              "4  Flat Coat Retriever/German Shepherd      Black/Brown  ...       0  adult\n",
              "\n",
              "[5 rows x 6 columns]"
            ]
          },
          "metadata": {},
          "execution_count": 20
        }
      ]
    },
    {
      "cell_type": "code",
      "metadata": {
        "id": "TVFYMLEaK9VY"
      },
      "source": [
        "Analysis = spark.createDataFrame(dataPandas) "
      ],
      "execution_count": 21,
      "outputs": []
    },
    {
      "cell_type": "code",
      "metadata": {
        "colab": {
          "base_uri": "https://localhost:8080/"
        },
        "id": "XM4gglTtLQ-Y",
        "outputId": "7be4f9c2-ac29-4ddf-a94d-1dec15f3d602"
      },
      "source": [
        "Analysis.printSchema()"
      ],
      "execution_count": 22,
      "outputs": [
        {
          "output_type": "stream",
          "name": "stdout",
          "text": [
            "root\n",
            " |-- breed: string (nullable = true)\n",
            " |-- color: string (nullable = true)\n",
            " |-- sex_upon_outcome: string (nullable = true)\n",
            " |-- outcome_type: string (nullable = true)\n",
            " |-- outcome: long (nullable = true)\n",
            " |-- age: string (nullable = true)\n",
            "\n"
          ]
        }
      ]
    },
    {
      "cell_type": "code",
      "metadata": {
        "id": "hAUQDEMeOm6f"
      },
      "source": [
        "Analysis = Analysis.withColumn(\"outcome\",Analysis[\"outcome\"].cast(DoubleType()))"
      ],
      "execution_count": 23,
      "outputs": []
    },
    {
      "cell_type": "code",
      "metadata": {
        "colab": {
          "base_uri": "https://localhost:8080/"
        },
        "id": "iNkSlngDPY9P",
        "outputId": "f8dec80d-9f49-417a-9215-f84335ad7739"
      },
      "source": [
        "Analysis.printSchema()"
      ],
      "execution_count": 24,
      "outputs": [
        {
          "output_type": "stream",
          "name": "stdout",
          "text": [
            "root\n",
            " |-- breed: string (nullable = true)\n",
            " |-- color: string (nullable = true)\n",
            " |-- sex_upon_outcome: string (nullable = true)\n",
            " |-- outcome_type: string (nullable = true)\n",
            " |-- outcome: double (nullable = true)\n",
            " |-- age: string (nullable = true)\n",
            "\n"
          ]
        }
      ]
    },
    {
      "cell_type": "markdown",
      "metadata": {
        "id": "IXq8mZK1eTP7"
      },
      "source": [
        "# Treniranje modela"
      ]
    },
    {
      "cell_type": "code",
      "metadata": {
        "id": "p6yFFywHS2WF"
      },
      "source": [
        "#kreiraćemo estimator da pretvorimo kategoricke vrednosti za breed, color, sex_upon_outcome i age u numeričke\n",
        "from pyspark.ml.feature import StringIndexer\n",
        "\n",
        "ageindexer = StringIndexer(inputCol=\"age\",outputCol=\"ageNum\")\n",
        "breedindexer = StringIndexer(inputCol=\"breed\",outputCol=\"breedNum\")\n",
        "colorindexer = StringIndexer(inputCol=\"color\",outputCol=\"colorNum\")\n",
        "sexindexer = StringIndexer(inputCol=\"sex_upon_outcome\",outputCol=\"sexNum\")\n",
        "#outcomeindexer = StringIndexer(inputCol=\"outcome_type\",outputCol=\"outcomeNum\")\n"
      ],
      "execution_count": 25,
      "outputs": []
    },
    {
      "cell_type": "code",
      "metadata": {
        "id": "WCxKrlnOqQ3f"
      },
      "source": [
        "Analysis = ageindexer.fit(Analysis).transform(Analysis)\n",
        "Analysis = breedindexer.fit(Analysis).transform(Analysis)\n",
        "Analysis = colorindexer.fit(Analysis).transform(Analysis)\n",
        "Analysis = sexindexer.fit(Analysis).transform(Analysis)\n",
        "#Analysis = outcomeindexer.fit(Analysis).transform(Analysis)\n"
      ],
      "execution_count": 26,
      "outputs": []
    },
    {
      "cell_type": "code",
      "metadata": {
        "id": "gIIw2zW5TLVG"
      },
      "source": [
        "#kreiraćemo estimator da kolonu  breedNum i colorNum pretvorimo u niz 0 i 1 \n",
        "from pyspark.ml.feature import OneHotEncoder\n",
        "\n",
        "onehot = OneHotEncoder(inputCols=[\"ageNum\", \"breedNum\",\"colorNum\", \"sexNum\"],outputCols=[\"ageVec\", \"breedVec\",\"colorVec\", \"sexVec\"]) \n"
      ],
      "execution_count": 27,
      "outputs": []
    },
    {
      "cell_type": "code",
      "metadata": {
        "id": "1vxYxRt3qxri"
      },
      "source": [
        "Analysis = onehot.fit(Analysis).transform(Analysis)"
      ],
      "execution_count": 28,
      "outputs": []
    },
    {
      "cell_type": "code",
      "metadata": {
        "id": "d64KM7i2gpef"
      },
      "source": [
        "#kreiramo transformer da kolone skupimo  u jedan vektor\n",
        "from pyspark.ml.feature import VectorAssembler\n",
        "\n",
        "assembler = VectorAssembler(inputCols=[\"ageVec\", \"breedVec\",\"colorVec\", \"sexVec\"], outputCol=\"features\")"
      ],
      "execution_count": 29,
      "outputs": []
    },
    {
      "cell_type": "code",
      "metadata": {
        "colab": {
          "base_uri": "https://localhost:8080/"
        },
        "id": "NzRcdR7SvttC",
        "outputId": "2fc307a0-5eb9-4bda-c98c-e5601c2cdfea"
      },
      "source": [
        "finalData = Analysis.drop('age', 'breed', 'color', 'sex')\n",
        "\n",
        "finalData.show(20)"
      ],
      "execution_count": 39,
      "outputs": [
        {
          "output_type": "stream",
          "name": "stdout",
          "text": [
            "+----------------+---------------+-------+------+--------+--------+------+-------------+------------------+-----------------+-------------+\n",
            "|sex_upon_outcome|   outcome_type|outcome|ageNum|breedNum|colorNum|sexNum|       ageVec|          breedVec|         colorVec|       sexVec|\n",
            "+----------------+---------------+-------+------+--------+--------+------+-------------+------------------+-----------------+-------------+\n",
            "|   Neutered Male|       Adoption|    0.0|   0.0|    21.0|    20.0|   0.0|(2,[0],[1.0])| (1892,[21],[1.0])| (335,[20],[1.0])|(4,[0],[1.0])|\n",
            "|     Intact Male|Return to Owner|    1.0|   1.0|     4.0|   197.0|   2.0|(2,[1],[1.0])|  (1892,[4],[1.0])|(335,[197],[1.0])|(4,[2],[1.0])|\n",
            "|   Neutered Male|       Adoption|    0.0|   1.0|     1.0|     5.0|   0.0|(2,[1],[1.0])|  (1892,[1],[1.0])|  (335,[5],[1.0])|(4,[0],[1.0])|\n",
            "|   Spayed Female|       Adoption|    0.0|   0.0|   328.0|    54.0|   1.0|(2,[0],[1.0])|(1892,[328],[1.0])| (335,[54],[1.0])|(4,[1],[1.0])|\n",
            "|   Neutered Male|       Adoption|    0.0|   0.0|   911.0|    11.0|   0.0|(2,[0],[1.0])|(1892,[911],[1.0])| (335,[11],[1.0])|(4,[0],[1.0])|\n",
            "|   Neutered Male|       Adoption|    0.0|   1.0|     0.0|     9.0|   0.0|(2,[1],[1.0])|  (1892,[0],[1.0])|  (335,[9],[1.0])|(4,[0],[1.0])|\n",
            "|   Intact Female|     Euthanasia|    1.0|   0.0|     0.0|     3.0|   3.0|(2,[0],[1.0])|  (1892,[0],[1.0])|  (335,[3],[1.0])|(4,[3],[1.0])|\n",
            "|   Neutered Male|       Adoption|    0.0|   0.0|   204.0|    22.0|   0.0|(2,[0],[1.0])|(1892,[204],[1.0])| (335,[22],[1.0])|(4,[0],[1.0])|\n",
            "|   Neutered Male|     Euthanasia|    1.0|   0.0|     0.0|    18.0|   0.0|(2,[0],[1.0])|  (1892,[0],[1.0])| (335,[18],[1.0])|(4,[0],[1.0])|\n",
            "|   Neutered Male|Return to Owner|    1.0|   0.0|     0.0|     1.0|   0.0|(2,[0],[1.0])|  (1892,[0],[1.0])|  (335,[1],[1.0])|(4,[0],[1.0])|\n",
            "|   Spayed Female|       Adoption|    0.0|   2.0|    22.0|     4.0|   1.0|    (2,[],[])| (1892,[22],[1.0])|  (335,[4],[1.0])|(4,[1],[1.0])|\n",
            "|   Neutered Male|       Adoption|    0.0|   0.0|    53.0|     6.0|   0.0|(2,[0],[1.0])| (1892,[53],[1.0])|  (335,[6],[1.0])|(4,[0],[1.0])|\n",
            "|   Spayed Female|       Adoption|    0.0|   1.0|   111.0|     2.0|   1.0|(2,[1],[1.0])|(1892,[111],[1.0])|  (335,[2],[1.0])|(4,[1],[1.0])|\n",
            "|   Spayed Female|       Adoption|    0.0|   0.0|    10.0|    22.0|   1.0|(2,[0],[1.0])| (1892,[10],[1.0])| (335,[22],[1.0])|(4,[1],[1.0])|\n",
            "|   Spayed Female|Return to Owner|    1.0|   0.0|    13.0|    12.0|   1.0|(2,[0],[1.0])| (1892,[13],[1.0])| (335,[12],[1.0])|(4,[1],[1.0])|\n",
            "|   Spayed Female|       Transfer|    1.0|   0.0|    10.0|   106.0|   1.0|(2,[0],[1.0])| (1892,[10],[1.0])|(335,[106],[1.0])|(4,[1],[1.0])|\n",
            "|   Neutered Male|       Adoption|    0.0|   2.0|    29.0|     5.0|   0.0|    (2,[],[])| (1892,[29],[1.0])|  (335,[5],[1.0])|(4,[0],[1.0])|\n",
            "|   Neutered Male|       Adoption|    0.0|   0.0|     8.0|    11.0|   0.0|(2,[0],[1.0])|  (1892,[8],[1.0])| (335,[11],[1.0])|(4,[0],[1.0])|\n",
            "|     Intact Male|       Transfer|    1.0|   1.0|     3.0|     7.0|   2.0|(2,[1],[1.0])|  (1892,[3],[1.0])|  (335,[7],[1.0])|(4,[2],[1.0])|\n",
            "|   Neutered Male|     Euthanasia|    1.0|   0.0|    21.0|    33.0|   0.0|(2,[0],[1.0])| (1892,[21],[1.0])| (335,[33],[1.0])|(4,[0],[1.0])|\n",
            "+----------------+---------------+-------+------+--------+--------+------+-------------+------------------+-----------------+-------------+\n",
            "only showing top 20 rows\n",
            "\n"
          ]
        }
      ]
    },
    {
      "cell_type": "code",
      "metadata": {
        "id": "BnE5uRSilpbt"
      },
      "source": [
        "#kreiramo estimator koji predstavlja algoritam mašinskog učenja\n",
        "from pyspark.ml.classification import RandomForestClassifier\n",
        "from pyspark.ml.classification import LogisticRegression\n",
        "from pyspark.ml.classification import DecisionTreeClassifier\n",
        "\n",
        "random = RandomForestClassifier(featuresCol=\"features\",labelCol=\"outcome\")\n",
        "logistic = LogisticRegression(featuresCol=\"features\",labelCol=\"outcome\", maxIter=10)\n",
        "tree = DecisionTreeClassifier(featuresCol=\"features\",labelCol=\"outcome\")"
      ],
      "execution_count": 31,
      "outputs": []
    },
    {
      "cell_type": "code",
      "metadata": {
        "id": "rTgTj_7LeNpM"
      },
      "source": [
        "#kreiramo Pipeline\n",
        "from pyspark.ml import Pipeline\n",
        "\n",
        "pipeline_random = Pipeline(stages=[assembler,random])\n",
        "pipeline_log = Pipeline(stages=[assembler,logistic])\n",
        "pipeline_tree = Pipeline(stages=[assembler,tree])\n"
      ],
      "execution_count": 32,
      "outputs": []
    },
    {
      "cell_type": "code",
      "metadata": {
        "colab": {
          "base_uri": "https://localhost:8080/"
        },
        "id": "KNPKbHkLHM--",
        "outputId": "cda9f5c8-2e0d-46f8-eb80-e32d06e13a6d"
      },
      "source": [
        "#podelićemo podatke na trening i test skup\n",
        "splits = finalData.randomSplit([0.8,0.2])\n",
        "train = splits[0]\n",
        "test = splits[1]\n",
        "print(\"Broj vrsta u treningu \",str(train.count()))\n",
        "print(\"Broj vrsta u testu \",str(test.count()))"
      ],
      "execution_count": 40,
      "outputs": [
        {
          "output_type": "stream",
          "name": "stdout",
          "text": [
            "Broj vrsta u treningu  23631\n",
            "Broj vrsta u testu  6163\n"
          ]
        }
      ]
    },
    {
      "cell_type": "code",
      "metadata": {
        "id": "S3dxtUDJHEve"
      },
      "source": [
        "#RandomForest\n",
        "model_random = pipeline_random.fit(train)\n",
        "prediction_random = model_random.transform(test)\n",
        "\n",
        "#Logistic\n",
        "model_log = pipeline_log.fit(train)\n",
        "prediction_log = model_log.transform(test)\n",
        "\n",
        "#Linear\n",
        "model_tree = pipeline_tree.fit(train)\n",
        "prediction_tree = model_tree.transform(test)"
      ],
      "execution_count": 41,
      "outputs": []
    },
    {
      "cell_type": "markdown",
      "metadata": {
        "id": "kkbRfeRteYNE"
      },
      "source": [
        "# Evaluacija modela"
      ]
    },
    {
      "cell_type": "code",
      "metadata": {
        "id": "hDztlkpTebD8",
        "colab": {
          "base_uri": "https://localhost:8080/"
        },
        "outputId": "784b31ec-6bd7-47c5-b31d-af4f23a7e959"
      },
      "source": [
        "#evaluacija modela BinaryClassificationEvaluator\n",
        "from pyspark.ml.evaluation import BinaryClassificationEvaluator\n",
        "evaluator = BinaryClassificationEvaluator(labelCol=\"outcome\")\n",
        "print(\"Metrika RandomForestClassifier: \",evaluator.getMetricName() , \" \", evaluator.evaluate(prediction_random))\n",
        "\n",
        "print(\"Metrika LogisticRegression: \",evaluator.getMetricName(), \" \", evaluator.evaluate(prediction_log))\n",
        "\n",
        "print(\"Metrika DecisionTreeClassifier: \",evaluator.getMetricName(), \" \", evaluator.evaluate(prediction_tree))\n"
      ],
      "execution_count": 42,
      "outputs": [
        {
          "output_type": "stream",
          "name": "stdout",
          "text": [
            "Metrika RandomForestClassifier:  areaUnderROC   0.6944031218512405\n",
            "Metrika LogisticRegression:  areaUnderROC   0.7372135854147365\n",
            "Metrika DecisionTreeClassifier:  areaUnderROC   0.5431429351252544\n"
          ]
        }
      ]
    },
    {
      "cell_type": "code",
      "metadata": {
        "colab": {
          "base_uri": "https://localhost:8080/"
        },
        "id": "us-n-y-fS-4C",
        "outputId": "508e917c-4fba-4fed-87ac-983d06e2aea8"
      },
      "source": [
        "#evaluacija modela CrossValidator\n",
        "from pyspark.ml.tuning import CrossValidator\n",
        "from pyspark.ml.tuning import ParamGridBuilder\n",
        "\n",
        "rgrid = ParamGridBuilder().addGrid(random.maxDepth, [5, 10, 15]).addGrid(random.numTrees, [5, 10, 15, 20]).build()\n",
        "cv1 = CrossValidator(estimator=pipeline_random, estimatorParamMaps=rgrid, evaluator=evaluator, numFolds =5, parallelism=2)\n",
        "model_1 = cv1.fit(train)\n",
        "prediction_1 = model_1.transform(test)\n",
        "print(\"RandomForestClassifier - Cross Validation:\", evaluator.getMetricName(), \":\", evaluator.evaluate(prediction_1))\n",
        "\n"
      ],
      "execution_count": 57,
      "outputs": [
        {
          "output_type": "stream",
          "name": "stdout",
          "text": [
            "RandomForestClassifier - Cross Validation: areaUnderROC : 0.7430372623684711\n"
          ]
        }
      ]
    },
    {
      "cell_type": "code",
      "metadata": {
        "colab": {
          "base_uri": "https://localhost:8080/"
        },
        "id": "Z2UOM5qrf9zH",
        "outputId": "db72b983-27ce-49c7-c31b-100c634ed05a"
      },
      "source": [
        "lgrid = ParamGridBuilder().addGrid(logistic.regParam, [0.1, 0.01]).addGrid(logistic.maxIter, [1, 10]).build()\n",
        "cv2 = CrossValidator(estimator=pipeline_log, estimatorParamMaps=lgrid, evaluator=evaluator, numFolds =5, parallelism=2)\n",
        "model_2 = cv2.fit(train)\n",
        "prediction_2 = model_2.transform(test)\n",
        "print(\"LogisticRegression - Cross Validation:\", evaluator.getMetricName(), \":\", evaluator.evaluate(prediction_2))"
      ],
      "execution_count": 58,
      "outputs": [
        {
          "output_type": "stream",
          "name": "stdout",
          "text": [
            "LogisticRegression - Cross Validation: areaUnderROC : 0.7381627567526373\n"
          ]
        }
      ]
    },
    {
      "cell_type": "code",
      "metadata": {
        "colab": {
          "base_uri": "https://localhost:8080/"
        },
        "id": "LjLS9iYwgBDp",
        "outputId": "6804766c-67cb-4ab9-86e6-5a9095f6b626"
      },
      "source": [
        "tgrid = ParamGridBuilder().addGrid(tree.maxDepth, [5, 10, 15]).build()\n",
        "cv3 = CrossValidator(estimator=pipeline_tree, estimatorParamMaps=tgrid, evaluator=evaluator, numFolds =5, parallelism=2)\n",
        "model_3 = cv3.fit(train)\n",
        "prediction_3 = model_3.transform(test)\n",
        "print(\"DecisionTreeClassifier - Cross Validation:\", evaluator.getMetricName(), \":\", evaluator.evaluate(prediction_3))"
      ],
      "execution_count": 59,
      "outputs": [
        {
          "output_type": "stream",
          "name": "stdout",
          "text": [
            "DecisionTreeClassifier - Cross Validation: areaUnderROC : 0.5709321495869796\n"
          ]
        }
      ]
    },
    {
      "cell_type": "markdown",
      "metadata": {
        "id": "2EVof19HebS0"
      },
      "source": [
        "7. Cuvanje modela"
      ]
    },
    {
      "cell_type": "code",
      "metadata": {
        "id": "Zb4VuO4ajXDg"
      },
      "source": [
        "model_log.save(\"/content/gdrive/My Drive/Colab Notebooks/model log\")\n",
        "pipeline_log.save(\"/content/gdrive/My Drive/Colab Notebooks/pipeline log\")"
      ],
      "execution_count": 60,
      "outputs": []
    },
    {
      "cell_type": "code",
      "metadata": {
        "id": "UPIqntvRZ0Ym"
      },
      "source": [
        "model_1.save(\"/content/gdrive/My Drive/Colab Notebooks/model random\")\n",
        "pipeline_random.save(\"/content/gdrive/My Drive/Colab Notebooks/pipeline random\")"
      ],
      "execution_count": 61,
      "outputs": []
    }
  ]
}